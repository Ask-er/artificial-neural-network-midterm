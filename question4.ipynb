{
 "cells": [
  {
   "cell_type": "code",
   "execution_count": 2,
   "metadata": {},
   "outputs": [
    {
     "name": "stdout",
     "output_type": "stream",
     "text": [
      "tensor([[0.9958]], grad_fn=<MulBackward0>)\n"
     ]
    }
   ],
   "source": [
    "import torch\n",
    "import torch.nn as nn\n",
    "import numpy as np\n",
    "\n",
    "torch.manual_seed(1)\n",
    "\n",
    "x = [[1,2,3],[4,5,6]]\n",
    "tensor = torch.tensor(x, dtype=torch.float32)\n",
    "tensor=tensor.reshape(1,6)\n",
    "\n",
    "def sigmoid_activation(x):\n",
    "\n",
    "  return 1 / (1 + torch.exp(-x))\n",
    "\n",
    "def tanh_activation(x):\n",
    "    return (torch.exp(x) - torch.exp(-x)) / (torch.exp(x) + torch.exp(-x)) \n",
    "\n",
    "class MLP(nn.Module):\n",
    "    def __init__(self, num_of_input_features, num_of_hidden_neurons, num_of_output_neurons):\n",
    "        super(MLP, self).__init__()\n",
    "        self.hidden_layer = nn.Linear(num_of_input_features, num_of_hidden_neurons)\n",
    "        self.output_layer = nn.Linear(num_of_hidden_neurons, num_of_output_neurons)\n",
    "\n",
    "        nn.init.normal_(self.hidden_layer.weight)\n",
    "        nn.init.normal_(self.hidden_layer.bias)\n",
    "        nn.init.normal_(self.output_layer.weight)\n",
    "        nn.init.normal_(self.output_layer.bias)\n",
    "\n",
    "    def forward(self, x):\n",
    "        x = tanh_activation(self.hidden_layer(x))\n",
    "        x = sigmoid_activation(self.output_layer(x))\n",
    "        return x\n",
    "\n",
    "input_shape = 6\n",
    "hidden_size = 50\n",
    "output_size = 1\n",
    "model = MLP(input_shape, hidden_size, output_size)\n",
    "y_pred = model(tensor)\n",
    "print(y_pred)"
   ]
  },
  {
   "cell_type": "code",
   "execution_count": 3,
   "metadata": {},
   "outputs": [
    {
     "name": "stdout",
     "output_type": "stream",
     "text": [
      "tensor([[0.0075]], grad_fn=<MulBackward0>)\n"
     ]
    }
   ],
   "source": [
    "import torch\n",
    "import torch.nn as nn\n",
    "import numpy as np\n",
    "\n",
    "torch.manual_seed(210401002)\n",
    "\n",
    "x = [[1,2,3],[4,5,6]]\n",
    "tensor = torch.tensor(x, dtype=torch.float32)\n",
    "tensor=tensor.reshape(1,6)\n",
    "\n",
    "def sigmoid_activation(x):\n",
    "\n",
    "  return 1 / (1 + torch.exp(-x))\n",
    "\n",
    "def tanh_activation(x):\n",
    "    return (torch.exp(x) - torch.exp(-x)) / (torch.exp(x) + torch.exp(-x)) \n",
    "\n",
    "class MLP(nn.Module):\n",
    "    def __init__(self, num_of_input_features, num_of_hidden_neurons, num_of_output_neurons):\n",
    "        super(MLP, self).__init__()\n",
    "        self.hidden_layer = nn.Linear(num_of_input_features, num_of_hidden_neurons)\n",
    "        self.output_layer = nn.Linear(num_of_hidden_neurons, num_of_output_neurons)\n",
    "\n",
    "        nn.init.normal_(self.hidden_layer.weight)\n",
    "        nn.init.normal_(self.hidden_layer.bias)\n",
    "        nn.init.normal_(self.output_layer.weight)\n",
    "        nn.init.normal_(self.output_layer.bias)\n",
    "\n",
    "    def forward(self, x):\n",
    "        x = tanh_activation(self.hidden_layer(x))\n",
    "        x = sigmoid_activation(self.output_layer(x))\n",
    "        return x\n",
    "\n",
    "input_shape = 6\n",
    "hidden_size = 50\n",
    "output_size = 1\n",
    "model = MLP(input_shape, hidden_size, output_size)\n",
    "y_pred = model(tensor)\n",
    "print(y_pred)"
   ]
  }
 ],
 "metadata": {
  "kernelspec": {
   "display_name": "Python 3",
   "language": "python",
   "name": "python3"
  },
  "language_info": {
   "codemirror_mode": {
    "name": "ipython",
    "version": 3
   },
   "file_extension": ".py",
   "mimetype": "text/x-python",
   "name": "python",
   "nbconvert_exporter": "python",
   "pygments_lexer": "ipython3",
   "version": "3.11.0"
  },
  "orig_nbformat": 4
 },
 "nbformat": 4,
 "nbformat_minor": 2
}
